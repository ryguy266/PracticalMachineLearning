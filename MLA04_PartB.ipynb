{
 "cells": [
  {
   "cell_type": "markdown",
   "metadata": {},
   "source": [
    "# Practical Machine Learning Assignment 04 Part B\n",
    "Ryan Haggerty\n",
    "\n",
    "Task/Problem Statement: \n",
    "- The goal of Part B of this assignment is to find the optimal MLP model on the CIFAS-10 dataset.\n",
    "\n",
    "### Dataset\n",
    "\n",
    "##### Description: \n",
    "The CIFAR-10 dataset is a dataset of 50,000 32x32 color training images and 10,000 test images, labeled over 10 categories.\n",
    "\n",
    "###### Source:\n",
    "https://keras.io/api/datasets/cifar10/\n",
    "\n",
    "##### Categories:\n",
    "- 0\tairplane\n",
    "- 1\tautomobile\n",
    "- 2\tbird\n",
    "- 3\tcat\n",
    "- 4\tdeer\n",
    "- 5\tdog\n",
    "- 6\tfrog\n",
    "- 7\thorse\n",
    "- 8\tship\n",
    "- 9\ttruck"
   ]
  },
  {
   "cell_type": "code",
   "execution_count": 1,
   "metadata": {},
   "outputs": [
    {
     "name": "stderr",
     "output_type": "stream",
     "text": [
      "C:\\Users\\ryguy\\anaconda3\\lib\\site-packages\\numpy\\_distributor_init.py:30: UserWarning: loaded more than 1 DLL from .libs:\n",
      "C:\\Users\\ryguy\\anaconda3\\lib\\site-packages\\numpy\\.libs\\libopenblas.FB5AE2TYXYH2IJRDKGDGQ3XBKLKTF43H.gfortran-win_amd64.dll\n",
      "C:\\Users\\ryguy\\anaconda3\\lib\\site-packages\\numpy\\.libs\\libopenblas.WCDJNK7YVMPZQ2ME2ZZHJJRJ3JIKNDB7.gfortran-win_amd64.dll\n",
      "  warnings.warn(\"loaded more than 1 DLL from .libs:\"\n",
      "C:\\Users\\ryguy\\anaconda3\\lib\\site-packages\\scipy\\__init__.py:146: UserWarning: A NumPy version >=1.16.5 and <1.23.0 is required for this version of SciPy (detected version 1.23.3\n",
      "  warnings.warn(f\"A NumPy version >={np_minversion} and <{np_maxversion}\"\n"
     ]
    }
   ],
   "source": [
    "import numpy as np\n",
    "import matplotlib.pyplot as plt\n",
    "\n",
    "from sklearn.metrics import confusion_matrix, accuracy_score, classification_report\n",
    "\n",
    "import tensorflow as tf"
   ]
  },
  {
   "cell_type": "markdown",
   "metadata": {},
   "source": [
    "## Load Data & Displat Dataset Information"
   ]
  },
  {
   "cell_type": "code",
   "execution_count": 14,
   "metadata": {
    "scrolled": false
   },
   "outputs": [
    {
     "name": "stdout",
     "output_type": "stream",
     "text": [
      "No. of Training Samples:  (45000, 32, 32, 3)\n",
      "No. of Training Labels:  (45000,)\n",
      "\n",
      "No. of Validation Samples:  (5000, 32, 32, 3)\n",
      "No. of Validation Labels:  (5000,)\n",
      "\n",
      "No. of Testing Samples:  (10000, 32, 32, 3)\n",
      "No. of Testing Labels:  (10000,)\n",
      "\n",
      "X type:  float64\n",
      "y type:  uint8\n"
     ]
    }
   ],
   "source": [
    "(x_train_full, y_train_full), (x_test, y_test) = tf.keras.datasets.cifar10.load_data()\n",
    "assert x_train_full.shape == (50000, 32, 32, 3)\n",
    "assert x_test.shape == (10000, 32, 32, 3)\n",
    "assert y_train_full.shape == (50000, 1)\n",
    "assert y_test.shape == (10000, 1)\n",
    "\n",
    "# Convert train and test labels from column vector to 1D array\n",
    "y_train_full=y_train_full.ravel()\n",
    "y_test=y_test.ravel()\n",
    "\n",
    "# Create validation dataset as well as scale (max-min scaling) the data\n",
    "X_valid, X_train = x_train_full[:5000] / 255.0, x_train_full[5000:] / 255.0\n",
    "y_valid, y_train = y_train_full[:5000], y_train_full[5000:]\n",
    "X_test = x_test / 255.0\n",
    "\n",
    "print(\"No. of Training Samples: \", X_train.shape)\n",
    "print(\"No. of Training Labels: \", y_train.shape)\n",
    "\n",
    "print(\"\\nNo. of Validation Samples: \", X_valid.shape)\n",
    "print(\"No. of Validation Labels: \", y_valid.shape)\n",
    "\n",
    "print(\"\\nNo. of Testing Samples: \", X_test.shape)\n",
    "print(\"No. of Testing Labels: \", y_test.shape)\n",
    "\n",
    "print(\"\\nX type: \", X_train.dtype)\n",
    "print(\"y type: \", y_train.dtype)"
   ]
  },
  {
   "cell_type": "markdown",
   "metadata": {},
   "source": [
    "## Experiment 1"
   ]
  },
  {
   "cell_type": "code",
   "execution_count": 15,
   "metadata": {},
   "outputs": [
    {
     "name": "stdout",
     "output_type": "stream",
     "text": [
      "Model: \"MLP_Multiclass_Classifier\"\n",
      "_________________________________________________________________\n",
      "Layer (type)                 Output Shape              Param #   \n",
      "=================================================================\n",
      "flatten (Flatten)            (None, 3072)              0         \n",
      "_________________________________________________________________\n",
      "dense (Dense)                (None, 300)               921900    \n",
      "_________________________________________________________________\n",
      "dense_1 (Dense)              (None, 100)               30100     \n",
      "_________________________________________________________________\n",
      "dense_2 (Dense)              (None, 100)               10100     \n",
      "_________________________________________________________________\n",
      "dense_3 (Dense)              (None, 10)                1010      \n",
      "=================================================================\n",
      "Total params: 963,110\n",
      "Trainable params: 963,110\n",
      "Non-trainable params: 0\n",
      "_________________________________________________________________\n",
      "Wall time: 65.7 ms\n"
     ]
    }
   ],
   "source": [
    "%%time\n",
    "# Experiment 1\n",
    "#Delete the TensorFlow graph before creating a new model, otherwise memory overflow will occur.\n",
    "tf.keras.backend.clear_session()\n",
    "\n",
    "\n",
    "#To reproduce the same result by the model in each iteration, we use fixed seeds for random number generation. \n",
    "np.random.seed(40)\n",
    "tf.random.set_seed(40)\n",
    "\n",
    "\n",
    "#Set the values for weight initializer and activation function\n",
    "kernel_initializer1 = 'random_normal'\n",
    "activation1 = 'relu'\n",
    "number_of_classes1 = 10\n",
    "\n",
    "'''\n",
    "Create a Sequential model composed of a single stack of layers connected sequentially. \n",
    "- Add the layers one by one.\n",
    "- Apply Dropout regularization if needed\n",
    "'''\n",
    "model1 = tf.keras.models.Sequential(name=\"MLP_Multiclass_Classifier\")\n",
    "model1.add(tf.keras.layers.Flatten(input_shape=[32, 32, 3]))\n",
    "model1.add(tf.keras.layers.Dense(units=300, kernel_initializer=kernel_initializer1, activation=activation1, \n",
    "                             bias_initializer=\"zeros\"))\n",
    "\n",
    "model1.add(tf.keras.layers.Dense(units=100, kernel_initializer=kernel_initializer1, activation=activation1,\n",
    "                            bias_initializer=\"zeros\"))\n",
    "\n",
    "model1.add(tf.keras.layers.Dense(units=100, kernel_initializer=kernel_initializer1, activation=activation1,\n",
    "                            bias_initializer=\"zeros\"))\n",
    "\n",
    "model1.add(tf.keras.layers.Dense(units=number_of_classes1, kernel_initializer=kernel_initializer1, \n",
    "                             activation=\"softmax\"))\n",
    "\n",
    "# Display a summary of the model\n",
    "model1.summary()"
   ]
  },
  {
   "cell_type": "markdown",
   "metadata": {},
   "source": [
    "### Train Model 1"
   ]
  },
  {
   "cell_type": "code",
   "execution_count": 16,
   "metadata": {
    "scrolled": true
   },
   "outputs": [
    {
     "name": "stdout",
     "output_type": "stream",
     "text": [
      "Epoch 1/50\n",
      "704/704 [==============================] - 5s 6ms/step - loss: 1.9339 - accuracy: 0.2947 - val_loss: 2.4192 - val_accuracy: 0.1976\n",
      "Epoch 2/50\n",
      "704/704 [==============================] - 4s 6ms/step - loss: 1.7335 - accuracy: 0.3771 - val_loss: 3.2735 - val_accuracy: 0.1892\n",
      "Epoch 3/50\n",
      "704/704 [==============================] - 4s 6ms/step - loss: 1.6521 - accuracy: 0.4068 - val_loss: 2.1136 - val_accuracy: 0.2820\n",
      "Epoch 4/50\n",
      "704/704 [==============================] - 4s 6ms/step - loss: 1.5807 - accuracy: 0.4348 - val_loss: 1.7814 - val_accuracy: 0.3664\n",
      "Epoch 5/50\n",
      "704/704 [==============================] - 4s 6ms/step - loss: 1.5335 - accuracy: 0.4512 - val_loss: 1.8037 - val_accuracy: 0.3796\n",
      "Epoch 6/50\n",
      "704/704 [==============================] - 4s 6ms/step - loss: 1.4927 - accuracy: 0.4680 - val_loss: 1.6184 - val_accuracy: 0.4254\n",
      "Epoch 7/50\n",
      "704/704 [==============================] - 4s 6ms/step - loss: 1.4548 - accuracy: 0.4793 - val_loss: 2.1587 - val_accuracy: 0.3370\n",
      "Epoch 8/50\n",
      "704/704 [==============================] - 4s 6ms/step - loss: 1.4247 - accuracy: 0.4909 - val_loss: 1.7491 - val_accuracy: 0.3960\n",
      "Epoch 9/50\n",
      "704/704 [==============================] - 4s 6ms/step - loss: 1.3944 - accuracy: 0.5002 - val_loss: 1.6582 - val_accuracy: 0.4188\n",
      "Epoch 10/50\n",
      "704/704 [==============================] - 4s 6ms/step - loss: 1.3653 - accuracy: 0.5105 - val_loss: 1.9955 - val_accuracy: 0.3440\n",
      "Epoch 11/50\n",
      "704/704 [==============================] - 4s 6ms/step - loss: 1.3440 - accuracy: 0.5186 - val_loss: 2.9671 - val_accuracy: 0.2440\n",
      "Epoch 12/50\n",
      "704/704 [==============================] - 4s 6ms/step - loss: 1.3205 - accuracy: 0.5272 - val_loss: 1.5753 - val_accuracy: 0.4316\n",
      "Epoch 13/50\n",
      "704/704 [==============================] - 4s 6ms/step - loss: 1.2911 - accuracy: 0.5358 - val_loss: 1.5578 - val_accuracy: 0.4414\n",
      "Epoch 14/50\n",
      "704/704 [==============================] - 5s 6ms/step - loss: 1.2702 - accuracy: 0.5441 - val_loss: 1.6749 - val_accuracy: 0.4188\n",
      "Epoch 15/50\n",
      "704/704 [==============================] - 4s 6ms/step - loss: 1.2486 - accuracy: 0.5528 - val_loss: 2.0988 - val_accuracy: 0.3520\n",
      "Epoch 16/50\n",
      "704/704 [==============================] - 4s 6ms/step - loss: 1.2341 - accuracy: 0.5558 - val_loss: 1.6362 - val_accuracy: 0.4436\n",
      "Epoch 17/50\n",
      "704/704 [==============================] - 4s 6ms/step - loss: 1.2064 - accuracy: 0.5678 - val_loss: 1.9594 - val_accuracy: 0.3960\n",
      "Epoch 18/50\n",
      "704/704 [==============================] - 4s 6ms/step - loss: 1.1922 - accuracy: 0.5736 - val_loss: 1.6038 - val_accuracy: 0.4408\n",
      "Epoch 19/50\n",
      "704/704 [==============================] - 4s 6ms/step - loss: 1.1751 - accuracy: 0.5806 - val_loss: 1.7647 - val_accuracy: 0.4146\n",
      "Epoch 20/50\n",
      "704/704 [==============================] - 4s 6ms/step - loss: 1.1526 - accuracy: 0.5865 - val_loss: 1.5720 - val_accuracy: 0.4784\n",
      "Epoch 21/50\n",
      "704/704 [==============================] - 4s 6ms/step - loss: 1.1364 - accuracy: 0.5911 - val_loss: 1.8068 - val_accuracy: 0.4052\n",
      "Epoch 22/50\n",
      "704/704 [==============================] - 4s 6ms/step - loss: 1.1215 - accuracy: 0.5956 - val_loss: 1.5304 - val_accuracy: 0.4724\n",
      "Epoch 23/50\n",
      "704/704 [==============================] - 5s 6ms/step - loss: 1.1067 - accuracy: 0.6053 - val_loss: 1.7723 - val_accuracy: 0.4256\n",
      "Epoch 24/50\n",
      "704/704 [==============================] - 4s 6ms/step - loss: 1.0925 - accuracy: 0.6068 - val_loss: 1.8882 - val_accuracy: 0.4048\n",
      "Epoch 25/50\n",
      "704/704 [==============================] - 4s 6ms/step - loss: 1.0760 - accuracy: 0.6114 - val_loss: 1.7075 - val_accuracy: 0.4358\n",
      "Epoch 26/50\n",
      "704/704 [==============================] - 4s 6ms/step - loss: 1.0554 - accuracy: 0.6214 - val_loss: 1.7255 - val_accuracy: 0.4350\n",
      "Epoch 27/50\n",
      "704/704 [==============================] - 5s 6ms/step - loss: 1.0453 - accuracy: 0.6231 - val_loss: 1.7995 - val_accuracy: 0.4288\n",
      "Epoch 28/50\n",
      "704/704 [==============================] - 4s 6ms/step - loss: 1.0293 - accuracy: 0.6300 - val_loss: 1.9636 - val_accuracy: 0.4226\n",
      "Epoch 29/50\n",
      "704/704 [==============================] - 4s 6ms/step - loss: 1.0114 - accuracy: 0.6350 - val_loss: 1.5755 - val_accuracy: 0.4862\n",
      "Epoch 30/50\n",
      "704/704 [==============================] - 4s 6ms/step - loss: 0.9999 - accuracy: 0.6394 - val_loss: 1.8876 - val_accuracy: 0.4584\n",
      "Epoch 31/50\n",
      "704/704 [==============================] - 4s 6ms/step - loss: 0.9873 - accuracy: 0.6447 - val_loss: 1.7913 - val_accuracy: 0.4444\n",
      "Epoch 32/50\n",
      "704/704 [==============================] - 4s 6ms/step - loss: 0.9766 - accuracy: 0.6478 - val_loss: 2.1610 - val_accuracy: 0.3970\n",
      "Epoch 00032: early stopping\n",
      "Wall time: 2min 23s\n"
     ]
    }
   ],
   "source": [
    "%%time\n",
    "# Define the optimizer\n",
    "# Learning rate is same for all experiments\n",
    "optimizer = tf.keras.optimizers.SGD(learning_rate=0.1)\n",
    "\n",
    "# Compile the model\n",
    "model1.compile(loss=\"sparse_categorical_crossentropy\",\n",
    "              optimizer=optimizer,\n",
    "              metrics=[\"accuracy\"])\n",
    "\n",
    "# Create early stopping function\n",
    "# This is also the same for all models\n",
    "early_stopping_cb = tf.keras.callbacks.EarlyStopping(monitor='val_loss',\n",
    "                                  min_delta=0, \n",
    "                                  patience=10, \n",
    "                                  verbose=1, \n",
    "                                  mode='auto',\n",
    "                                  restore_best_weights=False)\n",
    "\n",
    "# Set epochs to 50 and mini batch size to 64 according to assignment guidelines\n",
    "# We will keep these the same for all experiments as well\n",
    "no_of_epochs = 50\n",
    "size_of_mini_batch = 64\n",
    "\n",
    "# Train the model\n",
    "history1 = model1.fit(X_train, y_train, \n",
    "                    batch_size=size_of_mini_batch, \n",
    "                    epochs=no_of_epochs,\n",
    "                    verbose=1,\n",
    "                    validation_data=(X_valid, y_valid),\n",
    "                    callbacks=[early_stopping_cb])"
   ]
  },
  {
   "cell_type": "markdown",
   "metadata": {},
   "source": [
    "### Evaluate Model 1"
   ]
  },
  {
   "cell_type": "code",
   "execution_count": 10,
   "metadata": {},
   "outputs": [
    {
     "name": "stdout",
     "output_type": "stream",
     "text": [
      "Epochs:  32\n",
      "\n",
      "Test Data: Loss & Accuracy:  [2.18322491645813, 0.3935000002384186]\n",
      "\n",
      "Train Accuracy:  0.10005417530864198\n",
      "\n",
      "Test Accuracy:  0.1\n",
      "\n",
      "Test Confusion Matrix:\n",
      "[[666  15   4   7  14   2   9  92  68 123]\n",
      " [ 86 476   1  14  15   1  11  30  61 305]\n",
      " [208   8  51  42 137  16  64 345  20 109]\n",
      " [147  22   9 194  49  52  85 203  23 216]\n",
      " [206  10   7  28 238  11  73 323  25  79]\n",
      " [118  12   8 169  50 125  53 284  39 142]\n",
      " [155  24  23  56  70  12 369 160  17 114]\n",
      " [ 93  16   3  23  32   9  16 653  10 145]\n",
      " [235  38   0  15   7   2   5  46 413 239]\n",
      " [ 69  94   1   6   3   1   5  38  33 750]]\n",
      "\n",
      "Classification Report:\n",
      "              precision    recall  f1-score   support\n",
      "\n",
      "           0       0.34      0.67      0.45      1000\n",
      "           1       0.67      0.48      0.56      1000\n",
      "           2       0.48      0.05      0.09      1000\n",
      "           3       0.35      0.19      0.25      1000\n",
      "           4       0.39      0.24      0.29      1000\n",
      "           5       0.54      0.12      0.20      1000\n",
      "           6       0.53      0.37      0.44      1000\n",
      "           7       0.30      0.65      0.41      1000\n",
      "           8       0.58      0.41      0.48      1000\n",
      "           9       0.34      0.75      0.47      1000\n",
      "\n",
      "    accuracy                           0.39     10000\n",
      "   macro avg       0.45      0.39      0.36     10000\n",
      "weighted avg       0.45      0.39      0.36     10000\n",
      "\n"
     ]
    },
    {
     "data": {
      "image/png": "[encoded data removed]",
      "text/plain": [
       "<Figure size 1296x432 with 2 Axes>"
      ]
     },
     "metadata": {
      "needs_background": "light"
     },
     "output_type": "display_data"
    }
   ],
   "source": [
    "numOfEpochs1 = len(history1.history['loss'])\n",
    "print(\"Epochs: \", numOfEpochs1)\n",
    "\n",
    "print(\"\\nTest Data: Loss & Accuracy: \", model1.evaluate(X_test, y_test, verbose=0))\n",
    "\n",
    "# model.predict() method return 10 probabilities per class for each instance (Dimension Nx10)\n",
    "y_test_predicted1 = model1.predict(X_test)\n",
    "y_test_predicted1 = np.argmax(y_test_predicted1, axis=1) # get the label/index of the highest probability class\n",
    "\n",
    "\n",
    "y_train_predicted1 = model1.predict(X_train)\n",
    "y_train_predicted1 = np.argmax(y_train_predicted1, axis=1) # get the label/index of the highest probability class\n",
    "\n",
    "train_accuracy1 = np.mean(y_train_predicted1 == y_train)\n",
    "print(\"\\nTrain Accuracy: \", train_accuracy1)\n",
    "\n",
    "test_accuracy1 = np.mean(y_test_predicted1 == y_test)\n",
    "print(\"\\nTest Accuracy: \", test_accuracy1)\n",
    "\n",
    "print(\"\\nTest Confusion Matrix:\")\n",
    "print(confusion_matrix(y_test, y_test_predicted1))\n",
    "\n",
    "print(\"\\nClassification Report:\")\n",
    "print(classification_report(y_test, y_test_predicted1))\n",
    "\n",
    "plt.figure(figsize=(18,6))\n",
    "\n",
    "plt.subplot(121)\n",
    "plt.plot(range(1,numOfEpochs1+1),history1.history['val_accuracy'],label='validation')\n",
    "plt.plot(range(1,numOfEpochs1+1),history1.history['accuracy'],label='training')\n",
    "plt.legend(loc=0)\n",
    "plt.xlabel('Epochs')\n",
    "plt.ylabel('Accuracy')\n",
    "plt.xlim([1,numOfEpochs1])\n",
    "plt.grid(True)\n",
    "plt.title(\"Model Accuracy\")\n",
    "\n",
    "plt.subplot(122)\n",
    "plt.plot(range(1,numOfEpochs1+1),history1.history['val_loss'],label='validation')\n",
    "plt.plot(range(1,numOfEpochs1+1),history1.history['loss'],label='training')\n",
    "plt.legend(loc=0)\n",
    "plt.xlabel('Epochs')\n",
    "plt.ylabel('Loss')\n",
    "plt.xlim([1,numOfEpochs1])\n",
    "plt.grid(True)\n",
    "plt.title(\"Model Loss\")\n",
    "\n",
    "plt.show()"
   ]
  }
 ],
 "metadata": {
  "kernelspec": {
   "display_name": "Python 3",
   "language": "python",
   "name": "python3"
  },
  "language_info": {
   "codemirror_mode": {
    "name": "ipython",
    "version": 3
   },
   "file_extension": ".py",
   "mimetype": "text/x-python",
   "name": "python",
   "nbconvert_exporter": "python",
   "pygments_lexer": "ipython3",
   "version": "3.8.8"
  }
 },
 "nbformat": 4,
 "nbformat_minor": 2
}
