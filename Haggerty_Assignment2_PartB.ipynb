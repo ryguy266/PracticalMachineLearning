{
 "cells": [
  {
   "cell_type": "markdown",
   "metadata": {},
   "source": [
    "# Practical Machine Learning Assignment 2 Part B\n",
    "Ryan Haggerty\n",
    "\n",
    "The goal of this assignment is to solve regression and classification problems using the\n",
    "following models on two types of data: numeric and text.\n",
    "- Part A: Numeric Data - Regression Problem – Linear Regression using the\n",
    "Stochastic Gradient Descent algorithm\n",
    "- Part B: Natural Language Processing - Text Data - Classification Problem – KNearest Neighbors \n",
    "\n",
    "### Dataset\n",
    "##### Description: \n",
    "CoAID (Covid-19 heAlthcare mIsinformation Dataset) is a diverse COVID-19 healthcare\n",
    "misinformation dataset, including fake news on websites and social platforms, along with\n",
    "users’ social engagement about such news. For this task, you will use the fake and true news articles that are collected from factchecked or reliable websites. The true/real and fake news articles are stored in two CSV files.\n",
    "\n",
    "#### Source:\n",
    "https://github.com/cuilimeng/CoAID\n",
    "\n",
    "##### Input variables:\n",
    "- type\n",
    "- fact check url\n",
    "- archive\n",
    "- urls\n",
    "- title\n",
    "- content\n",
    "- abstract\n",
    "- publish date\n",
    "- meta keywords\n",
    "Only the input variable \"content\" will be used. \n",
    "\n",
    "##### Output variables: \n",
    "- label (authenticity)\n",
    "\n",
    "The output is added as a binary value (1: real, 0: fake).\n"
   ]
  },
  {
   "cell_type": "code",
   "execution_count": 1,
   "metadata": {},
   "outputs": [
    {
     "name": "stderr",
     "output_type": "stream",
     "text": [
      "C:\\Users\\ryguy\\anaconda3\\lib\\site-packages\\numpy\\_distributor_init.py:30: UserWarning: loaded more than 1 DLL from .libs:\n",
      "C:\\Users\\ryguy\\anaconda3\\lib\\site-packages\\numpy\\.libs\\libopenblas.FB5AE2TYXYH2IJRDKGDGQ3XBKLKTF43H.gfortran-win_amd64.dll\n",
      "C:\\Users\\ryguy\\anaconda3\\lib\\site-packages\\numpy\\.libs\\libopenblas.WCDJNK7YVMPZQ2ME2ZZHJJRJ3JIKNDB7.gfortran-win_amd64.dll\n",
      "  warnings.warn(\"loaded more than 1 DLL from .libs:\"\n",
      "C:\\Users\\ryguy\\anaconda3\\lib\\site-packages\\scipy\\__init__.py:146: UserWarning: A NumPy version >=1.16.5 and <1.23.0 is required for this version of SciPy (detected version 1.23.3\n",
      "  warnings.warn(f\"A NumPy version >={np_minversion} and <{np_maxversion}\"\n",
      "[nltk_data] Downloading package wordnet to\n",
      "[nltk_data]     C:\\Users\\ryguy\\AppData\\Roaming\\nltk_data...\n",
      "[nltk_data]   Package wordnet is already up-to-date!\n",
      "[nltk_data] Downloading package punkt to\n",
      "[nltk_data]     C:\\Users\\ryguy\\AppData\\Roaming\\nltk_data...\n",
      "[nltk_data]   Package punkt is already up-to-date!\n"
     ]
    }
   ],
   "source": [
    "# Import python modules\n",
    "import warnings\n",
    "import numpy as np\n",
    "import pandas as pd\n",
    "import matplotlib.pyplot as plt\n",
    "import seaborn as sns\n",
    "from scipy import stats\n",
    "from sklearn import datasets\n",
    "from sklearn.preprocessing import StandardScaler\n",
    "from sklearn.model_selection import train_test_split, learning_curve, GridSearchCV, cross_val_score, cross_val_predict\n",
    "import nltk\n",
    "nltk.download('wordnet')\n",
    "from nltk.stem import WordNetLemmatizer \n",
    "nltk.download('punkt')\n",
    "from wordcloud import WordCloud\n",
    "from sklearn.feature_extraction.text import CountVectorizer, TfidfVectorizer\n",
    "from sklearn.model_selection import train_test_split\n",
    "from sklearn.metrics import confusion_matrix, classification_report\n",
    "from sklearn.linear_model import LogisticRegression\n",
    "from sklearn.neighbors import KNeighborsClassifier\n",
    "from sklearn.metrics import precision_score, recall_score, f1_score, roc_curve, roc_auc_score\n",
    "from sklearn.metrics import precision_recall_curve, classification_report"
   ]
  },
  {
   "cell_type": "markdown",
   "metadata": {},
   "source": [
    "### Load Data & Displat Dataset Information"
   ]
  },
  {
   "cell_type": "code",
   "execution_count": 2,
   "metadata": {},
   "outputs": [
    {
     "data": {
      "text/html": [
       "<div>\n",
       "<style scoped>\n",
       "    .dataframe tbody tr th:only-of-type {\n",
       "        vertical-align: middle;\n",
       "    }\n",
       "\n",
       "    .dataframe tbody tr th {\n",
       "        vertical-align: top;\n",
       "    }\n",
       "\n",
       "    .dataframe thead th {\n",
       "        text-align: right;\n",
       "    }\n",
       "</style>\n",
       "<table border=\"1\" class=\"dataframe\">\n",
       "  <thead>\n",
       "    <tr style=\"text-align: right;\">\n",
       "      <th></th>\n",
       "      <th>Unnamed: 0</th>\n",
       "      <th>type</th>\n",
       "      <th>fact_check_url</th>\n",
       "      <th>news_url</th>\n",
       "      <th>title</th>\n",
       "      <th>newstitle</th>\n",
       "      <th>content</th>\n",
       "      <th>abstract</th>\n",
       "      <th>publish_date</th>\n",
       "      <th>meta_keywords</th>\n",
       "    </tr>\n",
       "  </thead>\n",
       "  <tbody>\n",
       "    <tr>\n",
       "      <th>0</th>\n",
       "      <td>0</td>\n",
       "      <td>article</td>\n",
       "      <td>healthline.com</td>\n",
       "      <td>https://www.healthline.com/health-news/coronav...</td>\n",
       "      <td>Coronavirus Outbreak: Live Updates</td>\n",
       "      <td>\"Coronavirus Outbreak: Daily Updates\"</td>\n",
       "      <td>experts warn most states that are reopening st...</td>\n",
       "      <td>the new coronavirus disease outbreak first ide...</td>\n",
       "      <td>NaN</td>\n",
       "      <td>\"coronavirus outbreak, viral outbreak, viral i...</td>\n",
       "    </tr>\n",
       "    <tr>\n",
       "      <th>1</th>\n",
       "      <td>1</td>\n",
       "      <td>article</td>\n",
       "      <td>healthline.com</td>\n",
       "      <td>https://www.healthline.com/health-news/screen-...</td>\n",
       "      <td>Screen Time Doesn’t Hurt Kids’ Social Skills, ...</td>\n",
       "      <td>\"Screen Time Doesn't Hurt Kids' Social Skills,...</td>\n",
       "      <td>a new study finds an increase in screen time d...</td>\n",
       "      <td>new research found that school age children in...</td>\n",
       "      <td>NaN</td>\n",
       "      <td>\"screen time, child development, smartphones, ...</td>\n",
       "    </tr>\n",
       "    <tr>\n",
       "      <th>2</th>\n",
       "      <td>2</td>\n",
       "      <td>article</td>\n",
       "      <td>healthline.com</td>\n",
       "      <td>https://www.healthline.com/health-news/heres-e...</td>\n",
       "      <td>Here’s Exactly Where We Are with Vaccines and ...</td>\n",
       "      <td>\"Where We're at with Vaccines and Treatments f...</td>\n",
       "      <td>scientists around the world are working on a n...</td>\n",
       "      <td>scientists around the world are working on a n...</td>\n",
       "      <td>NaN</td>\n",
       "      <td>\"covid-19 coronavirus outbreak research progre...</td>\n",
       "    </tr>\n",
       "    <tr>\n",
       "      <th>3</th>\n",
       "      <td>3</td>\n",
       "      <td>article</td>\n",
       "      <td>healthline.com</td>\n",
       "      <td>https://www.healthline.com/health-news/heres-w...</td>\n",
       "      <td>Here’s What Happens to the Body After Contract...</td>\n",
       "      <td>\"Here's What Happens to the Body After Contrac...</td>\n",
       "      <td>coronaviruses cause respiratory illnesses so t...</td>\n",
       "      <td>heres what we know so far about how covid-19 a...</td>\n",
       "      <td>NaN</td>\n",
       "      <td>\"coronavirus, viral infection, viral outbreak,...</td>\n",
       "    </tr>\n",
       "    <tr>\n",
       "      <th>4</th>\n",
       "      <td>4</td>\n",
       "      <td>article</td>\n",
       "      <td>healthline.com</td>\n",
       "      <td>https://www.healthline.com/health-news/why-you...</td>\n",
       "      <td>Why You Should Be Skeptical of Early Results o...</td>\n",
       "      <td>\"Why You Should Be Skeptical of Leaked Results...</td>\n",
       "      <td>medical experts are studying if remdesivir can...</td>\n",
       "      <td>with no approved treatment specific for covid-...</td>\n",
       "      <td>NaN</td>\n",
       "      <td>\"covid-19, covornavirus, novel coronavirus, vi...</td>\n",
       "    </tr>\n",
       "  </tbody>\n",
       "</table>\n",
       "</div>"
      ],
      "text/plain": [
       "   Unnamed: 0     type  fact_check_url  \\\n",
       "0           0  article  healthline.com   \n",
       "1           1  article  healthline.com   \n",
       "2           2  article  healthline.com   \n",
       "3           3  article  healthline.com   \n",
       "4           4  article  healthline.com   \n",
       "\n",
       "                                            news_url  \\\n",
       "0  https://www.healthline.com/health-news/coronav...   \n",
       "1  https://www.healthline.com/health-news/screen-...   \n",
       "2  https://www.healthline.com/health-news/heres-e...   \n",
       "3  https://www.healthline.com/health-news/heres-w...   \n",
       "4  https://www.healthline.com/health-news/why-you...   \n",
       "\n",
       "                                               title  \\\n",
       "0                 Coronavirus Outbreak: Live Updates   \n",
       "1  Screen Time Doesn’t Hurt Kids’ Social Skills, ...   \n",
       "2  Here’s Exactly Where We Are with Vaccines and ...   \n",
       "3  Here’s What Happens to the Body After Contract...   \n",
       "4  Why You Should Be Skeptical of Early Results o...   \n",
       "\n",
       "                                           newstitle  \\\n",
       "0              \"Coronavirus Outbreak: Daily Updates\"   \n",
       "1  \"Screen Time Doesn't Hurt Kids' Social Skills,...   \n",
       "2  \"Where We're at with Vaccines and Treatments f...   \n",
       "3  \"Here's What Happens to the Body After Contrac...   \n",
       "4  \"Why You Should Be Skeptical of Leaked Results...   \n",
       "\n",
       "                                             content  \\\n",
       "0  experts warn most states that are reopening st...   \n",
       "1  a new study finds an increase in screen time d...   \n",
       "2  scientists around the world are working on a n...   \n",
       "3  coronaviruses cause respiratory illnesses so t...   \n",
       "4  medical experts are studying if remdesivir can...   \n",
       "\n",
       "                                            abstract publish_date  \\\n",
       "0  the new coronavirus disease outbreak first ide...          NaN   \n",
       "1  new research found that school age children in...          NaN   \n",
       "2  scientists around the world are working on a n...          NaN   \n",
       "3  heres what we know so far about how covid-19 a...          NaN   \n",
       "4  with no approved treatment specific for covid-...          NaN   \n",
       "\n",
       "                                       meta_keywords  \n",
       "0  \"coronavirus outbreak, viral outbreak, viral i...  \n",
       "1  \"screen time, child development, smartphones, ...  \n",
       "2  \"covid-19 coronavirus outbreak research progre...  \n",
       "3  \"coronavirus, viral infection, viral outbreak,...  \n",
       "4  \"covid-19, covornavirus, novel coronavirus, vi...  "
      ]
     },
     "execution_count": 2,
     "metadata": {},
     "output_type": "execute_result"
    }
   ],
   "source": [
    "# Load data\n",
    "df_real = pd.read_csv('/Users/ryguy/Documents/UNL/Classes/Practical Machine Learning/A02/Dataset-Assignment2/NewsRealCOVID-19-05.csv', header=0)\n",
    "df_fake = pd.read_csv('/Users/ryguy/Documents/UNL/Classes/Practical Machine Learning/A02/Dataset-Assignment2/NewsFakeCOVID-19-05.csv', header=0)\n",
    "df_real.head(5)"
   ]
  },
  {
   "cell_type": "markdown",
   "metadata": {},
   "source": [
    "### Data Pre-processing\n"
   ]
  },
  {
   "cell_type": "markdown",
   "metadata": {},
   "source": [
    "First we need to combine the two dataframes and extract only the information we need."
   ]
  },
  {
   "cell_type": "code",
   "execution_count": 3,
   "metadata": {},
   "outputs": [],
   "source": [
    "# Add new column titled \"label\" to each df\n",
    "# 1 means the article is real, 0 means it is fake\n",
    "df_real['label']=1\n",
    "df_fake['label']=0\n",
    "\n",
    "# Concatenate the two dataframes vertically\n",
    "df_all=pd.concat([df_real, df_fake], ignore_index=True)\n",
    "\n",
    "# Extract only the \"content\" and \"label\" columns\n",
    "df_new=df_all[['content','label']]"
   ]
  },
  {
   "cell_type": "markdown",
   "metadata": {},
   "source": [
    "### Exploratory Data Analysis"
   ]
  },
  {
   "cell_type": "markdown",
   "metadata": {},
   "source": [
    "This section will perform basic EDA on the dataframe to be used for the experiments."
   ]
  },
  {
   "cell_type": "code",
   "execution_count": 4,
   "metadata": {},
   "outputs": [
    {
     "name": "stdout",
     "output_type": "stream",
     "text": [
      "<class 'pandas.core.frame.DataFrame'>\n",
      "RangeIndex: 2162 entries, 0 to 2161\n",
      "Data columns (total 2 columns):\n",
      " #   Column   Non-Null Count  Dtype \n",
      "---  ------   --------------  ----- \n",
      " 0   content  1522 non-null   object\n",
      " 1   label    2162 non-null   int64 \n",
      "dtypes: int64(1), object(1)\n",
      "memory usage: 33.9+ KB\n"
     ]
    }
   ],
   "source": [
    "# Get information of the dataframe\n",
    "df_new.info()"
   ]
  },
  {
   "cell_type": "code",
   "execution_count": 5,
   "metadata": {},
   "outputs": [
    {
     "data": {
      "text/plain": [
       "True"
      ]
     },
     "execution_count": 5,
     "metadata": {},
     "output_type": "execute_result"
    }
   ],
   "source": [
    "# Check if there are any null values in any column\n",
    "df_new.isna().values.any()"
   ]
  },
  {
   "cell_type": "code",
   "execution_count": 6,
   "metadata": {},
   "outputs": [],
   "source": [
    "# Make a deep copy of the DataFrame object\n",
    "df = df_new.copy()\n",
    "\n",
    "# Remove the rows with missing values \n",
    "df = df.dropna(axis=0)"
   ]
  },
  {
   "cell_type": "code",
   "execution_count": 7,
   "metadata": {},
   "outputs": [
    {
     "name": "stdout",
     "output_type": "stream",
     "text": [
      "Dimension of the data:  (1522, 2)\n",
      "\n",
      "No. of Rows: 1522\n",
      "No. of Columns: 2\n"
     ]
    }
   ],
   "source": [
    "# Observe the dimension of the data\n",
    "print(\"Dimension of the data: \", df.shape)\n",
    "\n",
    "no_of_rows = df.shape[0]\n",
    "no_of_columns = df.shape[1]\n",
    "\n",
    "print(\"\\nNo. of Rows: %d\" % no_of_rows)\n",
    "print(\"No. of Columns: %d\" % no_of_columns)"
   ]
  },
  {
   "cell_type": "code",
   "execution_count": 8,
   "metadata": {},
   "outputs": [
    {
     "data": {
      "text/html": [
       "<div>\n",
       "<style scoped>\n",
       "    .dataframe tbody tr th:only-of-type {\n",
       "        vertical-align: middle;\n",
       "    }\n",
       "\n",
       "    .dataframe tbody tr th {\n",
       "        vertical-align: top;\n",
       "    }\n",
       "\n",
       "    .dataframe thead th {\n",
       "        text-align: right;\n",
       "    }\n",
       "</style>\n",
       "<table border=\"1\" class=\"dataframe\">\n",
       "  <thead>\n",
       "    <tr style=\"text-align: right;\">\n",
       "      <th></th>\n",
       "      <th>content</th>\n",
       "    </tr>\n",
       "    <tr>\n",
       "      <th>label</th>\n",
       "      <th></th>\n",
       "    </tr>\n",
       "  </thead>\n",
       "  <tbody>\n",
       "    <tr>\n",
       "      <th>0</th>\n",
       "      <td>125</td>\n",
       "    </tr>\n",
       "    <tr>\n",
       "      <th>1</th>\n",
       "      <td>1397</td>\n",
       "    </tr>\n",
       "  </tbody>\n",
       "</table>\n",
       "</div>"
      ],
      "text/plain": [
       "       content\n",
       "label         \n",
       "0          125\n",
       "1         1397"
      ]
     },
     "execution_count": 8,
     "metadata": {},
     "output_type": "execute_result"
    }
   ],
   "source": [
    "# Observe the class distribution\n",
    "df.groupby('label').count()"
   ]
  },
  {
   "cell_type": "code",
   "execution_count": 9,
   "metadata": {},
   "outputs": [
    {
     "name": "stderr",
     "output_type": "stream",
     "text": [
      "C:\\Users\\ryguy\\anaconda3\\lib\\site-packages\\seaborn\\_decorators.py:36: FutureWarning: Pass the following variables as keyword args: x, y. From version 0.12, the only valid positional argument will be `data`, and passing other arguments without an explicit keyword will result in an error or misinterpretation.\n",
      "  warnings.warn(\n"
     ]
    },
    {
     "data": {
      "image/png": "[encoded data removed]",
      "text/plain": [
       "<Figure size 576x432 with 1 Axes>"
      ]
     },
     "metadata": {
      "needs_background": "light"
     },
     "output_type": "display_data"
    }
   ],
   "source": [
    "# Visualization of the class distribution\n",
    "label_counts = df.label.value_counts()\n",
    "plt.figure(figsize = (8,6))\n",
    "sns.barplot(label_counts.index, label_counts.values, alpha=0.9)\n",
    "\n",
    "plt.xticks(rotation = 'vertical')\n",
    "plt.xlabel('Label', fontsize=12)\n",
    "plt.ylabel('Counts', fontsize=12)\n",
    "plt.show()"
   ]
  },
  {
   "cell_type": "markdown",
   "metadata": {},
   "source": [
    "As is evident from the distribution, there are many more real COVID-19 data points than fake"
   ]
  },
  {
   "cell_type": "code",
   "execution_count": 10,
   "metadata": {},
   "outputs": [
    {
     "data": {
      "text/html": [
       "<div>\n",
       "<style scoped>\n",
       "    .dataframe tbody tr th:only-of-type {\n",
       "        vertical-align: middle;\n",
       "    }\n",
       "\n",
       "    .dataframe tbody tr th {\n",
       "        vertical-align: top;\n",
       "    }\n",
       "\n",
       "    .dataframe thead th {\n",
       "        text-align: right;\n",
       "    }\n",
       "</style>\n",
       "<table border=\"1\" class=\"dataframe\">\n",
       "  <thead>\n",
       "    <tr style=\"text-align: right;\">\n",
       "      <th></th>\n",
       "      <th>count</th>\n",
       "      <th>mean</th>\n",
       "      <th>std</th>\n",
       "      <th>min</th>\n",
       "      <th>25%</th>\n",
       "      <th>50%</th>\n",
       "      <th>75%</th>\n",
       "      <th>max</th>\n",
       "    </tr>\n",
       "    <tr>\n",
       "      <th>label</th>\n",
       "      <th></th>\n",
       "      <th></th>\n",
       "      <th></th>\n",
       "      <th></th>\n",
       "      <th></th>\n",
       "      <th></th>\n",
       "      <th></th>\n",
       "      <th></th>\n",
       "    </tr>\n",
       "  </thead>\n",
       "  <tbody>\n",
       "    <tr>\n",
       "      <th>0</th>\n",
       "      <td>125.0</td>\n",
       "      <td>441.048000</td>\n",
       "      <td>124.378251</td>\n",
       "      <td>36.0</td>\n",
       "      <td>488.0</td>\n",
       "      <td>492.0</td>\n",
       "      <td>494.0</td>\n",
       "      <td>500.0</td>\n",
       "    </tr>\n",
       "    <tr>\n",
       "      <th>1</th>\n",
       "      <td>1397.0</td>\n",
       "      <td>473.110236</td>\n",
       "      <td>73.065309</td>\n",
       "      <td>64.0</td>\n",
       "      <td>489.0</td>\n",
       "      <td>492.0</td>\n",
       "      <td>495.0</td>\n",
       "      <td>502.0</td>\n",
       "    </tr>\n",
       "  </tbody>\n",
       "</table>\n",
       "</div>"
      ],
      "text/plain": [
       "        count        mean         std   min    25%    50%    75%    max\n",
       "label                                                                  \n",
       "0       125.0  441.048000  124.378251  36.0  488.0  492.0  494.0  500.0\n",
       "1      1397.0  473.110236   73.065309  64.0  489.0  492.0  495.0  502.0"
      ]
     },
     "execution_count": 10,
     "metadata": {},
     "output_type": "execute_result"
    }
   ],
   "source": [
    "# Correlation between the content length and the label\n",
    "# Create a new column \"length\" the stores the length of the text on each row\n",
    "df['length'] = df['content'].map(lambda content: len(content))\n",
    "\n",
    "df.groupby('label').length.describe()"
   ]
  },
  {
   "cell_type": "code",
   "execution_count": 11,
   "metadata": {},
   "outputs": [
    {
     "data": {
      "text/plain": [
       "array([<AxesSubplot:title={'center':'0'}>,\n",
       "       <AxesSubplot:title={'center':'1'}>], dtype=object)"
      ]
     },
     "execution_count": 11,
     "metadata": {},
     "output_type": "execute_result"
    },
    {
     "data": {
      "image/png": "[encoded data removed]",
      "text/plain": [
       "<Figure size 864x432 with 2 Axes>"
      ]
     },
     "metadata": {
      "needs_background": "light"
     },
     "output_type": "display_data"
    }
   ],
   "source": [
    "# Use a length threshold to visualize the distribution of length per class\n",
    "\n",
    "threshold = 600\n",
    "emails_subset = df[df.length < threshold]\n",
    "emails_subset.hist(column='length', by='label', bins=100, figsize=(12, 6))"
   ]
  },
  {
   "cell_type": "markdown",
   "metadata": {},
   "source": [
    "### Final Pre-Processing"
   ]
  },
  {
   "cell_type": "code",
   "execution_count": 12,
   "metadata": {},
   "outputs": [
    {
     "name": "stdout",
     "output_type": "stream",
     "text": [
      "Wall time: 3.91 s\n"
     ]
    }
   ],
   "source": [
    "%%time\n",
    "# Text normalization by lemmatization\n",
    "lemmatizer = WordNetLemmatizer()\n",
    "\n",
    "df['content_lemmatized'] = df['content'].map(lambda content: ' '.join(lemmatizer.lemmatize(w) for w in nltk.word_tokenize(content.lower())))"
   ]
  },
  {
   "cell_type": "code",
   "execution_count": 53,
   "metadata": {},
   "outputs": [
    {
     "name": "stdout",
     "output_type": "stream",
     "text": [
      "Data Matrix (X) Shape:  (1522,)\n",
      "Label array (y) Shape:  (1522,)\n",
      "\n",
      "Data Matrix (X) Type:  object\n",
      "Label array (y) Type:  int64\n"
     ]
    }
   ],
   "source": [
    "# Create separate feature set and target\n",
    "X = df[\"content_lemmatized\"] # Features\n",
    "y = df['label'] # Target\n",
    "\n",
    "#Convert X and y into numpy arrays\n",
    "X = np.asarray(X)\n",
    "y = np.asarray(y)\n",
    "\n",
    "print(\"Data Matrix (X) Shape: \", X.shape)\n",
    "print(\"Label array (y) Shape: \", y.shape)\n",
    "\n",
    "print(\"\\nData Matrix (X) Type: \", X.dtype)\n",
    "print(\"Label array (y) Type: \", y.dtype)"
   ]
  },
  {
   "cell_type": "code",
   "execution_count": 54,
   "metadata": {},
   "outputs": [],
   "source": [
    "# Partition the data into training and testing sets\n",
    "X_train, X_test, y_train, y_test = train_test_split(X, y, test_size=0.2, random_state=0)"
   ]
  },
  {
   "cell_type": "markdown",
   "metadata": {},
   "source": [
    "Finally, each text feature will need to be vectorized. There are three different vectorization techniques:\n",
    "- binary features\n",
    "- frequency of the features\n",
    "- TF-IDF values\n",
    "These vectorization techniques will be performed separately, once for each of the following experiments. The results of the experiments will be used to compare the vectorization techniques."
   ]
  },
  {
   "cell_type": "markdown",
   "metadata": {},
   "source": [
    "# Experiment 3"
   ]
  },
  {
   "cell_type": "markdown",
   "metadata": {},
   "source": [
    "This experiment will use the binary features vectorization technique."
   ]
  },
  {
   "cell_type": "markdown",
   "metadata": {},
   "source": [
    "### Further Pre-Processing"
   ]
  },
  {
   "cell_type": "code",
   "execution_count": 32,
   "metadata": {},
   "outputs": [
    {
     "name": "stdout",
     "output_type": "stream",
     "text": [
      "\n",
      "Count Vectorized Training Data Matrix Dimension:  (1217, 7196)\n",
      "\n",
      "Size of Vocabulary:  7196\n",
      "\n",
      "Count Vectorized Test Data Matrix Dimension:  (305, 7196)\n"
     ]
    }
   ],
   "source": [
    "# Create a CountVectorizer object with binary technique\n",
    "count_vect = CountVectorizer(binary=True, stop_words='english') # uses binary counts for vectorization\n",
    "\n",
    "'''\n",
    "Using the CountVectorizer object, create a matrix representation of the training documents\n",
    "Each row represents a single document\n",
    "Each column represents the binary count for each feature\n",
    "'''\n",
    "X_train_count_vectorized_features = count_vect.fit_transform(X_train).todense()\n",
    "\n",
    "print(\"\\nCount Vectorized Training Data Matrix Dimension: \", X_train_count_vectorized_features.shape)\n",
    "print(\"\\nSize of Vocabulary: \", len(count_vect.vocabulary_))\n",
    "\n",
    "\n",
    "# Using the CountVectorizer object, create a matrix representation of the test documents\n",
    "X_test_count_vectorized_features = count_vect.transform(X_test).todense()\n",
    "print(\"\\nCount Vectorized Test Data Matrix Dimension: \", X_test_count_vectorized_features.shape)\n",
    "\n",
    "\n",
    "# Convert the feature matrices into numpy ndarrays\n",
    "X_train_count_vectorized_features = np.asarray(X_train_count_vectorized_features) \n",
    "X_test_count_vectorized_features = np.asarray(X_test_count_vectorized_features) "
   ]
  },
  {
   "cell_type": "code",
   "execution_count": 33,
   "metadata": {},
   "outputs": [],
   "source": [
    "# Scale the features\n",
    "scaler = StandardScaler()\n",
    "\n",
    "# Fit on training set\n",
    "scaler.fit(X_train_count_vectorized_features)\n",
    "\n",
    "# Apply scaling to training and testing\n",
    "X_train_count_vectorized_features3 = scaler.transform(X_train_count_vectorized_features)\n",
    "X_test_count_vectorized_features3 = scaler.transform(X_test_count_vectorized_features)"
   ]
  },
  {
   "cell_type": "markdown",
   "metadata": {},
   "source": [
    "### Model Training and Evaluation"
   ]
  },
  {
   "cell_type": "code",
   "execution_count": 29,
   "metadata": {},
   "outputs": [
    {
     "name": "stdout",
     "output_type": "stream",
     "text": [
      "Fitting 10 folds for each of 182 candidates, totalling 1820 fits\n",
      "Best Score: 0.959526\n",
      "Optimal Hyperparameter Values:  {'n_neighbors': 7, 'p': 1, 'weights': 'distance'}\n",
      "\n",
      "\n",
      "Wall time: 44min 12s\n"
     ]
    }
   ],
   "source": [
    "%%time\n",
    "# apply GridSearchCV using parameters ranges specified above\n",
    "\n",
    "warnings.filterwarnings('ignore')\n",
    "\n",
    "# The param_grid tells Scikit-Learn to evaluate all combinations of the hyperparameter values\n",
    "param_grid = {'n_neighbors': [1,3,5,7,9,11,13,15,17,21,23,33,43], 'p': [1, 2, 3, 4, 5, 10, 100], \n",
    "              'weights': [\"uniform\", \"distance\"]}\n",
    "\n",
    "knn_clf = KNeighborsClassifier()\n",
    "\n",
    "knn_cv_exp3 = GridSearchCV(knn_clf, param_grid, scoring='f1', cv=10, verbose=3, n_jobs=-1)\n",
    "knn_cv_exp3.fit(X_train_count_vectorized_features3, y_train)\n",
    "\n",
    "\n",
    "params_optimal_knn_exp3 = knn_cv_exp3.best_params_\n",
    "\n",
    "print(\"Best Score: %f\" % knn_cv_exp3.best_score_)\n",
    "print(\"Optimal Hyperparameter Values: \", params_optimal_knn_exp3)\n",
    "print(\"\\n\")"
   ]
  },
  {
   "cell_type": "code",
   "execution_count": 30,
   "metadata": {},
   "outputs": [
    {
     "name": "stdout",
     "output_type": "stream",
     "text": [
      "\n",
      "Training Accuracy:  1.0\n",
      "Accuracy Score: 0.923 (+/- 0.01)\n"
     ]
    }
   ],
   "source": [
    "# Train Scikit-Learn’s KNeighborsClassifier model using the optimal hyperparameter values obtained from GridSearchCV\n",
    "knnbest_exp3 = KNeighborsClassifier(**params_optimal_knn_exp3)\n",
    "\n",
    "knnbest_exp3.fit(X_train_count_vectorized_features3, y_train)\n",
    "\n",
    "y_train_predicted_exp3 = knnbest_exp3.predict(X_train_count_vectorized_features3)\n",
    "\n",
    "train_accuracy_knn_exp3 = np.mean(y_train_predicted_exp3 == y_train)\n",
    "print(\"\\nTraining Accuracy: \", train_accuracy_knn_exp3)\n",
    "\n",
    "# Evaluate the model on the train data using the cross_val_score function and report the average accuracy.\n",
    "scores_exp3 = cross_val_score(knnbest_exp3, X_train_count_vectorized_features3, y_train, scoring='accuracy', cv=5)\n",
    "\n",
    "print(\"Accuracy Score: %0.3f (+/- %0.2f)\" % (scores_exp3.mean(), scores_exp3.std() * 2))"
   ]
  },
  {
   "cell_type": "code",
   "execution_count": 58,
   "metadata": {},
   "outputs": [
    {
     "name": "stdout",
     "output_type": "stream",
     "text": [
      "Test: Performance Measures Based on the Default Threshold (0.5):\n",
      "\n",
      "Test Accuracy:  0.940983606557377\n",
      "\n",
      "Test Precision = 0.943144\n",
      "Test Recall = 0.996466\n",
      "Test F1 Score = 0.969072\n",
      "Test Confusion Matrix \n",
      " [[  5  17]\n",
      " [  1 282]]\n",
      "\n",
      "Classification Report:\n",
      "              precision    recall  f1-score   support\n",
      "\n",
      "        Fake       0.83      0.23      0.36        22\n",
      "        Real       0.94      1.00      0.97       283\n",
      "\n",
      "    accuracy                           0.94       305\n",
      "   macro avg       0.89      0.61      0.66       305\n",
      "weighted avg       0.94      0.94      0.92       305\n",
      "\n"
     ]
    }
   ],
   "source": [
    "#Test model\n",
    "print(\"Test: Performance Measures Based on the Default Threshold (0.5):\\n\")\n",
    "\n",
    "# Report test accuracy, test precision, test recall, test F1 score, and test confusion matrix\n",
    "y_test_pred_exp3 = knnbest_exp3.predict(X_test_count_vectorized_features3)\n",
    "\n",
    "test_accuracy_knn_exp3 = np.mean(y_test == y_test_pred_exp3)\n",
    "\n",
    "print(\"Test Accuracy: \", test_accuracy_knn_exp3)\n",
    "\n",
    "# Precision, Recall, F1 Score and Confusion Matrix for the Default Threshold 0.5\n",
    "precision_test_exp3 = precision_score(y_test, y_test_pred_exp3) \n",
    "print(\"\\nTest Precision = %f\" % precision_test_exp3)\n",
    "\n",
    "recall_test_exp3 = recall_score(y_test, y_test_pred_exp3)\n",
    "print(\"Test Recall = %f\" % recall_test_exp3)\n",
    "\n",
    "\n",
    "f1_test_exp3 = f1_score(y_test, y_test_pred_exp3)\n",
    "print(\"Test F1 Score = %f\" % f1_test_exp3)\n",
    "\n",
    "print(\"Test Confusion Matrix \\n\", confusion_matrix(y_test, y_test_pred_exp3))\n",
    "\n",
    "print(\"\\nClassification Report:\")\n",
    "print(classification_report(y_test, y_test_pred_exp3, target_names = [\"Fake\", \"Real\"]))"
   ]
  },
  {
   "cell_type": "markdown",
   "metadata": {},
   "source": [
    "## Experiment 4"
   ]
  },
  {
   "cell_type": "markdown",
   "metadata": {},
   "source": [
    "This experiment will use the frequency of the features vectorization technique."
   ]
  },
  {
   "cell_type": "markdown",
   "metadata": {},
   "source": [
    "### Further Pre-Processing"
   ]
  },
  {
   "cell_type": "code",
   "execution_count": 36,
   "metadata": {},
   "outputs": [
    {
     "name": "stdout",
     "output_type": "stream",
     "text": [
      "\n",
      "Count Vectorized Training Data Matrix Dimension:  (1217, 7196)\n",
      "\n",
      "Size of Vocabulary:  7196\n",
      "\n",
      "Count Vectorized Test Data Matrix Dimension:  (305, 7196)\n"
     ]
    }
   ],
   "source": [
    "# Create a CountVectorizer object with frequency of the features technique\n",
    "count_vect = CountVectorizer(stop_words='english') # uses frequency of the features for vectorization\n",
    "\n",
    "X_train_count_vectorized_features = count_vect.fit_transform(X_train).todense()\n",
    "\n",
    "print(\"\\nCount Vectorized Training Data Matrix Dimension: \", X_train_count_vectorized_features.shape)\n",
    "print(\"\\nSize of Vocabulary: \", len(count_vect.vocabulary_))\n",
    "\n",
    "\n",
    "# Using the CountVectorizer object, create a matrix representation of the test documents\n",
    "X_test_count_vectorized_features = count_vect.transform(X_test).todense()\n",
    "print(\"\\nCount Vectorized Test Data Matrix Dimension: \", X_test_count_vectorized_features.shape)\n",
    "\n",
    "\n",
    "# Convert the feature matrices into numpy ndarrays\n",
    "X_train_count_vectorized_features = np.asarray(X_train_count_vectorized_features) \n",
    "X_test_count_vectorized_features = np.asarray(X_test_count_vectorized_features) "
   ]
  },
  {
   "cell_type": "code",
   "execution_count": 37,
   "metadata": {},
   "outputs": [],
   "source": [
    "# Scale the features\n",
    "scaler = StandardScaler()\n",
    "\n",
    "# Fit on training set\n",
    "scaler.fit(X_train_count_vectorized_features)\n",
    "\n",
    "# Apply scaling to training and testing\n",
    "X_train_count_vectorized_features4 = scaler.transform(X_train_count_vectorized_features)\n",
    "X_test_count_vectorized_features4 = scaler.transform(X_test_count_vectorized_features)"
   ]
  },
  {
   "cell_type": "markdown",
   "metadata": {},
   "source": [
    "### Model Training and Evaluation"
   ]
  },
  {
   "cell_type": "code",
   "execution_count": 38,
   "metadata": {},
   "outputs": [
    {
     "name": "stdout",
     "output_type": "stream",
     "text": [
      "Fitting 10 folds for each of 182 candidates, totalling 1820 fits\n",
      "Best Score: 0.959526\n",
      "Optimal Hyperparameter Values:  {'n_neighbors': 7, 'p': 1, 'weights': 'distance'}\n",
      "\n",
      "\n",
      "Wall time: 42min 38s\n"
     ]
    }
   ],
   "source": [
    "%%time\n",
    "# apply GridSearchCV using parameters ranges specified above\n",
    "\n",
    "warnings.filterwarnings('ignore')\n",
    "\n",
    "# The param_grid tells Scikit-Learn to evaluate all combinations of the hyperparameter values\n",
    "param_grid = {'n_neighbors': [1,3,5,7,9,11,13,15,17,21,23,33,43], 'p': [1, 2, 3, 4, 5, 10, 100], \n",
    "              'weights': [\"uniform\", \"distance\"]}\n",
    "\n",
    "knn_clf = KNeighborsClassifier()\n",
    "\n",
    "knn_cv_exp4 = GridSearchCV(knn_clf, param_grid, scoring='f1', cv=10, verbose=3, n_jobs=-1)\n",
    "knn_cv_exp4.fit(X_train_count_vectorized_features4, y_train)\n",
    "\n",
    "\n",
    "params_optimal_knn_exp4 = knn_cv_exp4.best_params_\n",
    "\n",
    "print(\"Best Score: %f\" % knn_cv_exp4.best_score_)\n",
    "print(\"Optimal Hyperparameter Values: \", params_optimal_knn_exp4)\n",
    "print(\"\\n\")"
   ]
  },
  {
   "cell_type": "code",
   "execution_count": 39,
   "metadata": {},
   "outputs": [
    {
     "name": "stdout",
     "output_type": "stream",
     "text": [
      "\n",
      "Training Accuracy:  1.0\n",
      "Accuracy Score: 0.923 (+/- 0.01)\n"
     ]
    }
   ],
   "source": [
    "# Train Scikit-Learn’s KNeighborsClassifier model using the optimal hyperparameter values obtained from GridSearchCV\n",
    "knnbest_exp4 = KNeighborsClassifier(**params_optimal_knn_exp4)\n",
    "\n",
    "knnbest_exp4.fit(X_train_count_vectorized_features4, y_train)\n",
    "\n",
    "y_train_predicted_exp4 = knnbest_exp4.predict(X_train_count_vectorized_features4)\n",
    "\n",
    "train_accuracy_knn_exp4 = np.mean(y_train_predicted_exp4 == y_train)\n",
    "print(\"\\nTraining Accuracy: \", train_accuracy_knn_exp4)\n",
    "\n",
    "# Evaluate the model on the train data using the cross_val_score function and report the average accuracy.\n",
    "scores_exp4 = cross_val_score(knnbest_exp4, X_train_count_vectorized_features4, y_train, scoring='accuracy', cv=5)\n",
    "\n",
    "print(\"Accuracy Score: %0.3f (+/- %0.2f)\" % (scores_exp4.mean(), scores_exp4.std() * 2))"
   ]
  },
  {
   "cell_type": "code",
   "execution_count": 60,
   "metadata": {},
   "outputs": [
    {
     "name": "stdout",
     "output_type": "stream",
     "text": [
      "Test: Performance Measures Based on the Default Threshold (0.5):\n",
      "\n",
      "Test Accuracy:  0.940983606557377\n",
      "\n",
      "Test Precision = 0.943144\n",
      "Test Recall = 0.996466\n",
      "Test F1 Score = 0.969072\n",
      "Test Confusion Matrix \n",
      " [[  5  17]\n",
      " [  1 282]]\n",
      "\n",
      "Classification Report:\n",
      "              precision    recall  f1-score   support\n",
      "\n",
      "        Fake       0.83      0.23      0.36        22\n",
      "        Real       0.94      1.00      0.97       283\n",
      "\n",
      "    accuracy                           0.94       305\n",
      "   macro avg       0.89      0.61      0.66       305\n",
      "weighted avg       0.94      0.94      0.92       305\n",
      "\n"
     ]
    }
   ],
   "source": [
    "#Test model\n",
    "print(\"Test: Performance Measures Based on the Default Threshold (0.5):\\n\")\n",
    "\n",
    "# Report test accuracy, test precision, test recall, test F1 score, and test confusion matrix\n",
    "y_test_pred_exp4 = knnbest_exp4.predict(X_test_count_vectorized_features4)\n",
    "\n",
    "test_accuracy_knn_exp4 = np.mean(y_test == y_test_pred_exp4)\n",
    "\n",
    "print(\"Test Accuracy: \", test_accuracy_knn_exp4)\n",
    "\n",
    "# Precision, Recall, F1 Score and Confusion Matrix for the Default Threshold 0.5\n",
    "precision_test_exp4 = precision_score(y_test, y_test_pred_exp4) \n",
    "print(\"\\nTest Precision = %f\" % precision_test_exp4)\n",
    "\n",
    "recall_test_exp4 = recall_score(y_test, y_test_pred_exp4)\n",
    "print(\"Test Recall = %f\" % recall_test_exp4)\n",
    "\n",
    "\n",
    "f1_test_exp4 = f1_score(y_test, y_test_pred_exp4)\n",
    "print(\"Test F1 Score = %f\" % f1_test_exp4)\n",
    "\n",
    "print(\"Test Confusion Matrix \\n\", confusion_matrix(y_test, y_test_pred_exp4))\n",
    "\n",
    "print(\"\\nClassification Report:\")\n",
    "print(classification_report(y_test, y_test_pred_exp4, target_names = [\"Fake\", \"Real\"]))"
   ]
  },
  {
   "cell_type": "markdown",
   "metadata": {},
   "source": [
    "## Experiment 5"
   ]
  },
  {
   "cell_type": "markdown",
   "metadata": {},
   "source": [
    "This experiment will use the term frequency–inverse document frequency (TF-IDF) vectorization technique."
   ]
  },
  {
   "cell_type": "markdown",
   "metadata": {},
   "source": [
    "### Further Pre-Processing"
   ]
  },
  {
   "cell_type": "code",
   "execution_count": 64,
   "metadata": {},
   "outputs": [
    {
     "name": "stdout",
     "output_type": "stream",
     "text": [
      "\n",
      "Count Vectorized Training Data Matrix (TF-IDF) Dimension:  (1217, 7196)\n",
      "\n",
      "Size of Vocabulary:  7196\n",
      "\n",
      "Count Vectorized Test Data Matrix (TF-IDF) Dimension:  (305, 7196)\n",
      "Wall time: 161 ms\n"
     ]
    }
   ],
   "source": [
    "%%time\n",
    "\n",
    "# Create a TF-IDF vectorizer object \n",
    "# The stop word removal attribute is activated (which can be removed if needed)\n",
    "tfidf_vect = TfidfVectorizer(stop_words='english')\n",
    "\n",
    "\n",
    "# Using the TfidfVectorizer object, create a matrix representation of the training documents\n",
    "# Each row represents a single document\n",
    "# Each column represents the binary count for each feature\n",
    "X_train_tfidf_vectorized_features = tfidf_vect.fit_transform(X_train).todense()\n",
    "\n",
    "print(\"\\nCount Vectorized Training Data Matrix (TF-IDF) Dimension: \", X_train_tfidf_vectorized_features.shape)\n",
    "print(\"\\nSize of Vocabulary: \", len(tfidf_vect.vocabulary_))\n",
    "\n",
    "\n",
    "# Using the CountVectorizer object, create a matrix representation of the test documents\n",
    "X_test_tfidf_vectorized_features = tfidf_vect.transform(X_test).todense()\n",
    "print(\"\\nCount Vectorized Test Data Matrix (TF-IDF) Dimension: \", X_test_tfidf_vectorized_features.shape)\n",
    "\n",
    "\n",
    "# Convert the feature matrices into numpy ndarrays\n",
    "X_train_tfidf_vectorized_features = np.asarray(X_train_tfidf_vectorized_features) \n",
    "X_test_tfidf_vectorized_features = np.asarray(X_test_tfidf_vectorized_features)"
   ]
  },
  {
   "cell_type": "markdown",
   "metadata": {},
   "source": [
    "### Model Training and Evaluation"
   ]
  },
  {
   "cell_type": "code",
   "execution_count": 65,
   "metadata": {},
   "outputs": [
    {
     "name": "stdout",
     "output_type": "stream",
     "text": [
      "Fitting 5 folds for each of 144 candidates, totalling 720 fits\n",
      "Best Score: 0.967020\n",
      "Optimal Hyperparameter Values:  {'n_neighbors': 1, 'p': 2, 'weights': 'uniform'}\n",
      "\n",
      "\n",
      "Wall time: 27min\n"
     ]
    }
   ],
   "source": [
    "%%time\n",
    "# apply GridSearchCV using parameters ranges specified above\n",
    "\n",
    "warnings.filterwarnings('ignore')\n",
    "\n",
    "# The param_grid tells Scikit-Learn to evaluate all combinations of the hyperparameter values\n",
    "param_grid = {'n_neighbors': [1,3,5,7,9,11,13,15,17, 23,33,43], 'p': [1, 2, 3, 5, 10, 100], \n",
    "              'weights': [\"uniform\", \"distance\"]}\n",
    "\n",
    "knn_clf = KNeighborsClassifier()\n",
    "\n",
    "knn_cv_exp5 = GridSearchCV(knn_clf, param_grid, scoring='f1', cv=5, verbose=3, n_jobs=-1)\n",
    "knn_cv_exp5.fit(X_train_tfidf_vectorized_features, y_train)\n",
    "\n",
    "\n",
    "params_optimal_knn_exp5 = knn_cv_exp5.best_params_\n",
    "\n",
    "print(\"Best Score: %f\" % knn_cv_exp5.best_score_)\n",
    "print(\"Optimal Hyperparameter Values: \", params_optimal_knn_exp5)\n",
    "print(\"\\n\")"
   ]
  },
  {
   "cell_type": "code",
   "execution_count": 66,
   "metadata": {},
   "outputs": [
    {
     "name": "stdout",
     "output_type": "stream",
     "text": [
      "\n",
      "Training Accuracy:  1.0\n",
      "Accuracy Score: 0.938 (+/- 0.01)\n"
     ]
    }
   ],
   "source": [
    "# Train Scikit-Learn’s KNeighborsClassifier model using the optimal hyperparameter values obtained from GridSearchCV\n",
    "knnbest_exp5 = KNeighborsClassifier(**params_optimal_knn_exp5)\n",
    "\n",
    "knnbest_exp5.fit(X_train_tfidf_vectorized_features, y_train)\n",
    "\n",
    "y_train_predicted_exp5 = knnbest_exp5.predict(X_train_tfidf_vectorized_features)\n",
    "\n",
    "train_accuracy_knn_exp5 = np.mean(y_train_predicted_exp5 == y_train)\n",
    "print(\"\\nTraining Accuracy: \", train_accuracy_knn_exp5)\n",
    "\n",
    "# Evaluate the model on the train data using the cross_val_score function and report the average accuracy.\n",
    "scores_exp5 = cross_val_score(knnbest_exp5, X_train_tfidf_vectorized_features, y_train, scoring='accuracy', cv=5)\n",
    "\n",
    "print(\"Accuracy Score: %0.3f (+/- %0.2f)\" % (scores_exp5.mean(), scores_exp5.std() * 2))"
   ]
  },
  {
   "cell_type": "code",
   "execution_count": 67,
   "metadata": {},
   "outputs": [
    {
     "name": "stdout",
     "output_type": "stream",
     "text": [
      "Test: Performance Measures Based on the Default Threshold (0.5):\n",
      "\n",
      "Test Accuracy:  0.9606557377049181\n",
      "\n",
      "Test Precision = 0.972125\n",
      "Test Recall = 0.985866\n",
      "Test F1 Score = 0.978947\n",
      "Test Confusion Matrix \n",
      " [[ 14   8]\n",
      " [  4 279]]\n",
      "\n",
      "Classification Report:\n",
      "              precision    recall  f1-score   support\n",
      "\n",
      "        Fake       0.78      0.64      0.70        22\n",
      "        Real       0.97      0.99      0.98       283\n",
      "\n",
      "    accuracy                           0.96       305\n",
      "   macro avg       0.87      0.81      0.84       305\n",
      "weighted avg       0.96      0.96      0.96       305\n",
      "\n"
     ]
    }
   ],
   "source": [
    "#Test model\n",
    "print(\"Test: Performance Measures Based on the Default Threshold (0.5):\\n\")\n",
    "\n",
    "# Report test accuracy, test precision, test recall, test F1 score, and test confusion matrix\n",
    "y_test_pred_exp5 = knnbest_exp5.predict(X_test_tfidf_vectorized_features)\n",
    "\n",
    "test_accuracy_knn_exp5 = np.mean(y_test == y_test_pred_exp5)\n",
    "\n",
    "print(\"Test Accuracy: \", test_accuracy_knn_exp5)\n",
    "\n",
    "# Precision, Recall, F1 Score and Confusion Matrix for the Default Threshold 0.5\n",
    "precision_test_exp5 = precision_score(y_test, y_test_pred_exp5) \n",
    "print(\"\\nTest Precision = %f\" % precision_test_exp5)\n",
    "\n",
    "recall_test_exp5 = recall_score(y_test, y_test_pred_exp5)\n",
    "print(\"Test Recall = %f\" % recall_test_exp5)\n",
    "\n",
    "\n",
    "f1_test_exp5 = f1_score(y_test, y_test_pred_exp5)\n",
    "print(\"Test F1 Score = %f\" % f1_test_exp5)\n",
    "\n",
    "print(\"Test Confusion Matrix \\n\", confusion_matrix(y_test, y_test_pred_exp5))\n",
    "\n",
    "print(\"\\nClassification Report:\")\n",
    "print(classification_report(y_test, y_test_pred_exp5, target_names = [\"Fake\", \"Real\"]))"
   ]
  },
  {
   "cell_type": "markdown",
   "metadata": {},
   "source": [
    "## Experiment 6"
   ]
  },
  {
   "cell_type": "markdown",
   "metadata": {},
   "source": [
    "The best performing experiment was Experiment 5. We will compute the precision-recall curve, adjust the threshold, and report the performance of that model in this experiment."
   ]
  },
  {
   "cell_type": "code",
   "execution_count": 55,
   "metadata": {},
   "outputs": [
    {
     "data": {
      "image/png": "[encoded data removed]",
      "text/plain": [
       "<Figure size 720x432 with 1 Axes>"
      ]
     },
     "metadata": {},
     "output_type": "display_data"
    },
    {
     "name": "stdout",
     "output_type": "stream",
     "text": [
      "Optimal Threshold:  -1\n"
     ]
    }
   ],
   "source": [
    "# Get the 2nd column of the matrix of predicted probabilities for each data point\n",
    "y_scores_exp6 = cross_val_predict(knnbest_exp5, X_train_tfidf_vectorized_features, y_train, method=\"predict_proba\", cv=10)[:, 1]\n",
    "\n",
    "# Generate the precision-recall curve for the model of Experiment 5\n",
    "plt.style.use('ggplot')\n",
    "\n",
    "precisions, recalls, thresholds = precision_recall_curve(y_train, y_scores_exp6)\n",
    "\n",
    "fig = plt.figure(figsize=(10, 6))\n",
    "def plot_precision_recall_vs_threshold(precisions, recalls, thresholds): \n",
    "    plt.plot(thresholds, precisions[:-1], \"b--\",  linewidth=8, label=\"Precision\") \n",
    "    plt.plot(thresholds, recalls[:-1], \"g-\",  linewidth=3, label=\"Recall\") \n",
    "    plt.xlabel(\"Threshold\")\n",
    "    plt.legend(loc=\"lower right\")\n",
    "    plt.title('Precision-Recall Curve')\n",
    "    plt.ylim([0, 1.1])\n",
    "\n",
    "plot_precision_recall_vs_threshold(precisions, recalls, thresholds)\n",
    "plt.show()\n",
    "\n",
    "# Find and report the optimal threshold\n",
    "threshold_optimal = -1\n",
    "for i in range(len(precisions)):\n",
    "    if(precisions[i] == recalls[i]):\n",
    "        threshold_optimal = thresholds[i]\n",
    "\n",
    "print(\"Optimal Threshold: \", threshold_optimal)"
   ]
  },
  {
   "cell_type": "markdown",
   "metadata": {},
   "source": [
    "We want to find a threshold that increases the recall for the misinformation class without decreasing precision too much. Here, smaller thresholds achieve this. If our goal was overall accuracy, it's clear that a higher threshold would be best for this model. However, since our goal is increased recall, we lower the threshold to 0.2."
   ]
  },
  {
   "cell_type": "code",
   "execution_count": 63,
   "metadata": {},
   "outputs": [
    {
     "name": "stdout",
     "output_type": "stream",
     "text": [
      "Performance Measures Based on the Optimal Threshold (from Precision-Recall Curve):\n",
      "Train Accuracy:  0.9383730484798686\n",
      "\n",
      "Test Accuracy:  0.9606557377049181\n",
      "\n",
      "Precision (Threshold 0.20) = 0.972125\n",
      "Recall (Threshold 0.20) = 0.985866\n",
      "F1 Score = (Threshold 0.20) = 0.978947\n",
      "Confusion Matrix (Threshold 0.20)\n",
      "[[ 14   8]\n",
      " [  4 279]]\n",
      "\n",
      "Classification Report:\n",
      "              precision    recall  f1-score   support\n",
      "\n",
      "        Fake       0.78      0.64      0.70        22\n",
      "        Real       0.97      0.99      0.98       283\n",
      "\n",
      "    accuracy                           0.96       305\n",
      "   macro avg       0.87      0.81      0.84       305\n",
      "weighted avg       0.96      0.96      0.96       305\n",
      "\n"
     ]
    }
   ],
   "source": [
    "print(\"Performance Measures Based on the Optimal Threshold (from Precision-Recall Curve):\")\n",
    "\n",
    "# Precision, Recall, F1 Score and Confusion Matrix for the optimal threshold\n",
    "\n",
    "# Selected threshold from precision-recall curve \n",
    "t = 0.2\n",
    "\n",
    "# Compute predictions based on new t by using the following method:\n",
    "#  - Get the probability of the positive class from the 2nd column [:, 1]\n",
    "#  - If that probability is greater than or equal to t, then the test data belongs to the positive class\n",
    "y_train_predicted_new = (cross_val_predict(knnbest_exp5, X_train_tfidf_vectorized_features, y_train, method=\"predict_proba\", cv=10)[:,1] > t).astype(int)\n",
    "\n",
    "# Find training accuracy\n",
    "train_accuracy_knn_exp6 = np.mean(y_train == y_train_predicted_new)\n",
    "\n",
    "print(\"Train Accuracy: \", train_accuracy_knn_exp6)\n",
    "\n",
    "# Find testing performance measures\n",
    "y_test_predicted_new = (knnbest_exp5.predict_proba(X_test_tfidf_vectorized_features)[:,1] > t).astype(int)\n",
    "\n",
    "test_accuracy_knn = np.mean(y_test == y_test_predicted_new)\n",
    "\n",
    "print(\"\\nTest Accuracy: \", test_accuracy_knn)\n",
    "\n",
    "\n",
    "precision = precision_score(y_test, y_test_predicted_new) \n",
    "print(\"\\nPrecision (Threshold %.2f) = %f\" % (t, precision))\n",
    "\n",
    "recall = recall_score(y_test, y_test_predicted_new)\n",
    "print(\"Recall (Threshold %.2f) = %f\" % (t, recall))\n",
    "\n",
    "\n",
    "f1 = f1_score(y_test, y_test_predicted_new)\n",
    "print(\"F1 Score = (Threshold %.2f) = %f\" % (t, f1))\n",
    "\n",
    "print(\"Confusion Matrix (Threshold %.2f)\" %  t) \n",
    "print(confusion_matrix(y_test, y_test_predicted_new))\n",
    "\n",
    "print(\"\\nClassification Report:\")\n",
    "print(classification_report(y_test, y_test_predicted_new, target_names = [\"Fake\", \"Real\"]))"
   ]
  }
 ],
 "metadata": {
  "kernelspec": {
   "display_name": "Python 3",
   "language": "python",
   "name": "python3"
  },
  "language_info": {
   "codemirror_mode": {
    "name": "ipython",
    "version": 3
   },
   "file_extension": ".py",
   "mimetype": "text/x-python",
   "name": "python",
   "nbconvert_exporter": "python",
   "pygments_lexer": "ipython3",
   "version": "3.8.8"
  }
 },
 "nbformat": 4,
 "nbformat_minor": 2
}
